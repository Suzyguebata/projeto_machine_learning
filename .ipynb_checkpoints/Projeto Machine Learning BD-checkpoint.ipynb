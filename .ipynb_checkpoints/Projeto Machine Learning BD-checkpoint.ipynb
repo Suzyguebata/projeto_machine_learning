{
 "cells": [
  {
   "cell_type": "markdown",
   "id": "d69b258c",
   "metadata": {},
   "source": [
    "# Projeto I Machine Learning \n",
    "##### Tutor: Rodrigo Fiorin\n",
    "\n",
    "Gostaria de mostrar aqui qual a quantidade de Admitidos e desligados por grau de instrução no periodo de nov/2018 à nov/2019.\n",
    "Dados coletados da base Ministério do trabalho.\n",
    "Devido ao pouco tempo entre troca tutor e eu ter internado devido a crise renal, não consegui desenvolver muita coisa e não apresentarei a socialização."
   ]
  },
  {
   "cell_type": "markdown",
   "id": "3c8675d3",
   "metadata": {},
   "source": [
    "### Importando Bibliotecas"
   ]
  },
  {
   "cell_type": "code",
   "execution_count": 1,
   "id": "64597069",
   "metadata": {},
   "outputs": [],
   "source": [
    "import pandas as pd\n",
    "import matplotlib.pyplot as plt\n",
    "import seaborn as sns\n",
    "from plotnine import *"
   ]
  },
  {
   "cell_type": "markdown",
   "id": "d7038345",
   "metadata": {},
   "source": [
    "### Leitura dos dados e visualização do conteúdo"
   ]
  },
  {
   "cell_type": "code",
   "execution_count": 2,
   "id": "cd09687d",
   "metadata": {},
   "outputs": [],
   "source": [
    "#carrega os dados no dataframe\n",
    "df = pd.read_csv ('admitidos_demitidos_2019.csv')"
   ]
  },
  {
   "cell_type": "code",
   "execution_count": 35,
   "id": "972441f7",
   "metadata": {},
   "outputs": [
    {
     "data": {
      "text/html": [
       "<div>\n",
       "<style scoped>\n",
       "    .dataframe tbody tr th:only-of-type {\n",
       "        vertical-align: middle;\n",
       "    }\n",
       "\n",
       "    .dataframe tbody tr th {\n",
       "        vertical-align: top;\n",
       "    }\n",
       "\n",
       "    .dataframe thead th {\n",
       "        text-align: right;\n",
       "    }\n",
       "</style>\n",
       "<table border=\"1\" class=\"dataframe\">\n",
       "  <thead>\n",
       "    <tr style=\"text-align: right;\">\n",
       "      <th></th>\n",
       "      <th>UF</th>\n",
       "      <th>Grau Instru��o</th>\n",
       "      <th>Admitidos</th>\n",
       "      <th>Desligados</th>\n",
       "      <th>Total</th>\n",
       "    </tr>\n",
       "  </thead>\n",
       "  <tbody>\n",
       "    <tr>\n",
       "      <th>0</th>\n",
       "      <td>Rond�nia</td>\n",
       "      <td>Total</td>\n",
       "      <td>4169</td>\n",
       "      <td>3603</td>\n",
       "      <td>7772</td>\n",
       "    </tr>\n",
       "    <tr>\n",
       "      <th>1</th>\n",
       "      <td>Rond�nia</td>\n",
       "      <td>Analfabeto</td>\n",
       "      <td>22</td>\n",
       "      <td>26</td>\n",
       "      <td>48</td>\n",
       "    </tr>\n",
       "    <tr>\n",
       "      <th>2</th>\n",
       "      <td>Rond�nia</td>\n",
       "      <td>Fundamental Completo</td>\n",
       "      <td>391</td>\n",
       "      <td>267</td>\n",
       "      <td>658</td>\n",
       "    </tr>\n",
       "    <tr>\n",
       "      <th>3</th>\n",
       "      <td>Rond�nia</td>\n",
       "      <td>M�dio Incompleto</td>\n",
       "      <td>510</td>\n",
       "      <td>447</td>\n",
       "      <td>957</td>\n",
       "    </tr>\n",
       "    <tr>\n",
       "      <th>4</th>\n",
       "      <td>Rond�nia</td>\n",
       "      <td>M�dio Completo</td>\n",
       "      <td>2728</td>\n",
       "      <td>2421</td>\n",
       "      <td>5149</td>\n",
       "    </tr>\n",
       "  </tbody>\n",
       "</table>\n",
       "</div>"
      ],
      "text/plain": [
       "          UF        Grau Instru��o  Admitidos  Desligados  Total\n",
       "0   Rond�nia                 Total       4169        3603   7772\n",
       "1   Rond�nia            Analfabeto         22          26     48\n",
       "2   Rond�nia  Fundamental Completo        391         267    658\n",
       "3   Rond�nia      M�dio Incompleto        510         447    957\n",
       "4   Rond�nia        M�dio Completo       2728        2421   5149"
      ]
     },
     "execution_count": 35,
     "metadata": {},
     "output_type": "execute_result"
    }
   ],
   "source": [
    "#visualiza as primeiras cinco entradas do dataframe\n",
    "df.head()"
   ]
  },
  {
   "cell_type": "code",
   "execution_count": 36,
   "id": "d7bae7fa",
   "metadata": {},
   "outputs": [
    {
     "data": {
      "text/plain": [
       "(189, 5)"
      ]
     },
     "execution_count": 36,
     "metadata": {},
     "output_type": "execute_result"
    }
   ],
   "source": [
    "df.shape"
   ]
  },
  {
   "cell_type": "code",
   "execution_count": 40,
   "id": "9d8b35f6",
   "metadata": {},
   "outputs": [
    {
     "data": {
      "text/plain": [
       "['UF', 'Grau Instru��o', 'Admitidos', 'Desligados']"
      ]
     },
     "execution_count": 40,
     "metadata": {},
     "output_type": "execute_result"
    }
   ],
   "source": [
    "list(df.columns)"
   ]
  },
  {
   "cell_type": "code",
   "execution_count": 37,
   "id": "5d3da06b",
   "metadata": {},
   "outputs": [
    {
     "data": {
      "text/html": [
       "<div>\n",
       "<style scoped>\n",
       "    .dataframe tbody tr th:only-of-type {\n",
       "        vertical-align: middle;\n",
       "    }\n",
       "\n",
       "    .dataframe tbody tr th {\n",
       "        vertical-align: top;\n",
       "    }\n",
       "\n",
       "    .dataframe thead th {\n",
       "        text-align: right;\n",
       "    }\n",
       "</style>\n",
       "<table border=\"1\" class=\"dataframe\">\n",
       "  <thead>\n",
       "    <tr style=\"text-align: right;\">\n",
       "      <th></th>\n",
       "      <th>UF</th>\n",
       "      <th>Grau Instru��o</th>\n",
       "      <th>Admitidos</th>\n",
       "      <th>Desligados</th>\n",
       "      <th>Total</th>\n",
       "    </tr>\n",
       "  </thead>\n",
       "  <tbody>\n",
       "    <tr>\n",
       "      <th>1</th>\n",
       "      <td>Rond�nia</td>\n",
       "      <td>Analfabeto</td>\n",
       "      <td>22</td>\n",
       "      <td>26</td>\n",
       "      <td>48</td>\n",
       "    </tr>\n",
       "    <tr>\n",
       "      <th>2</th>\n",
       "      <td>Rond�nia</td>\n",
       "      <td>Fundamental Completo</td>\n",
       "      <td>391</td>\n",
       "      <td>267</td>\n",
       "      <td>658</td>\n",
       "    </tr>\n",
       "    <tr>\n",
       "      <th>3</th>\n",
       "      <td>Rond�nia</td>\n",
       "      <td>M�dio Incompleto</td>\n",
       "      <td>510</td>\n",
       "      <td>447</td>\n",
       "      <td>957</td>\n",
       "    </tr>\n",
       "    <tr>\n",
       "      <th>4</th>\n",
       "      <td>Rond�nia</td>\n",
       "      <td>M�dio Completo</td>\n",
       "      <td>2728</td>\n",
       "      <td>2421</td>\n",
       "      <td>5149</td>\n",
       "    </tr>\n",
       "    <tr>\n",
       "      <th>5</th>\n",
       "      <td>Rond�nia</td>\n",
       "      <td>Superior Incompleto</td>\n",
       "      <td>149</td>\n",
       "      <td>137</td>\n",
       "      <td>286</td>\n",
       "    </tr>\n",
       "    <tr>\n",
       "      <th>...</th>\n",
       "      <td>...</td>\n",
       "      <td>...</td>\n",
       "      <td>...</td>\n",
       "      <td>...</td>\n",
       "      <td>...</td>\n",
       "    </tr>\n",
       "    <tr>\n",
       "      <th>184</th>\n",
       "      <td>Distrito Federal</td>\n",
       "      <td>Fundamental Completo</td>\n",
       "      <td>1820</td>\n",
       "      <td>1498</td>\n",
       "      <td>3318</td>\n",
       "    </tr>\n",
       "    <tr>\n",
       "      <th>185</th>\n",
       "      <td>Distrito Federal</td>\n",
       "      <td>M�dio Incompleto</td>\n",
       "      <td>1571</td>\n",
       "      <td>1282</td>\n",
       "      <td>2853</td>\n",
       "    </tr>\n",
       "    <tr>\n",
       "      <th>186</th>\n",
       "      <td>Distrito Federal</td>\n",
       "      <td>M�dio Completo</td>\n",
       "      <td>14605</td>\n",
       "      <td>10673</td>\n",
       "      <td>25278</td>\n",
       "    </tr>\n",
       "    <tr>\n",
       "      <th>187</th>\n",
       "      <td>Distrito Federal</td>\n",
       "      <td>Superior Incompleto</td>\n",
       "      <td>1013</td>\n",
       "      <td>709</td>\n",
       "      <td>1722</td>\n",
       "    </tr>\n",
       "    <tr>\n",
       "      <th>188</th>\n",
       "      <td>Distrito Federal</td>\n",
       "      <td>Superior Completo</td>\n",
       "      <td>2662</td>\n",
       "      <td>1902</td>\n",
       "      <td>4564</td>\n",
       "    </tr>\n",
       "  </tbody>\n",
       "</table>\n",
       "<p>162 rows × 5 columns</p>\n",
       "</div>"
      ],
      "text/plain": [
       "                    UF        Grau Instru��o  Admitidos  Desligados  Total\n",
       "1             Rond�nia            Analfabeto         22          26     48\n",
       "2             Rond�nia  Fundamental Completo        391         267    658\n",
       "3             Rond�nia      M�dio Incompleto        510         447    957\n",
       "4             Rond�nia        M�dio Completo       2728        2421   5149\n",
       "5             Rond�nia   Superior Incompleto        149         137    286\n",
       "..                 ...                   ...        ...         ...    ...\n",
       "184   Distrito Federal  Fundamental Completo       1820        1498   3318\n",
       "185   Distrito Federal      M�dio Incompleto       1571        1282   2853\n",
       "186   Distrito Federal        M�dio Completo      14605       10673  25278\n",
       "187   Distrito Federal   Superior Incompleto       1013         709   1722\n",
       "188   Distrito Federal     Superior Completo       2662        1902   4564\n",
       "\n",
       "[162 rows x 5 columns]"
      ]
     },
     "execution_count": 37,
     "metadata": {},
     "output_type": "execute_result"
    }
   ],
   "source": [
    "df.drop([0,7,14,21,28,35,42,49,56,63,70,77,84,91,98,105,112,119,126,133,140,147,154,161,168,175,182])"
   ]
  },
  {
   "cell_type": "code",
   "execution_count": 39,
   "id": "f98c7286",
   "metadata": {},
   "outputs": [],
   "source": [
    "df.drop('Total', axis=1, inplace=True)"
   ]
  },
  {
   "cell_type": "code",
   "execution_count": 44,
   "id": "cfb41acf",
   "metadata": {},
   "outputs": [
    {
     "data": {
      "image/png": "[encoded data removed]",
      "text/plain": [
       "<Figure size 640x480 with 1 Axes>"
      ]
     },
     "metadata": {},
     "output_type": "display_data"
    },
    {
     "data": {
      "text/plain": [
       "<ggplot: (134350412695)>"
      ]
     },
     "execution_count": 44,
     "metadata": {},
     "output_type": "execute_result"
    }
   ],
   "source": [
    "(ggplot(df)+\\\n",
    "    aes(x='Admitidos', y='Desligados')+\\\n",
    "    labs(title= 'Quantidade Admitidos vs Desligados em 2019', x='Admitidos', y = 'Desligados')\n",
    ")"
   ]
  },
  {
   "cell_type": "code",
   "execution_count": null,
   "id": "a864f103",
   "metadata": {},
   "outputs": [],
   "source": []
  }
 ],
 "metadata": {
  "kernelspec": {
   "display_name": "Python 3",
   "language": "python",
   "name": "python3"
  },
  "language_info": {
   "codemirror_mode": {
    "name": "ipython",
    "version": 3
   },
   "file_extension": ".py",
   "mimetype": "text/x-python",
   "name": "python",
   "nbconvert_exporter": "python",
   "pygments_lexer": "ipython3",
   "version": "3.8.8"
  }
 },
 "nbformat": 4,
 "nbformat_minor": 5
}
